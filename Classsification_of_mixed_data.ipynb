{
 "cells": [
  {
   "cell_type": "code",
   "execution_count": null,
   "id": "8ae198ee",
   "metadata": {},
   "outputs": [],
   "source": [
    "import pandas as pd\n",
    "import numpy as np\n",
    "\n",
    "df1 = pd.read_csv('your_data.csv')\n",
    "df1.shape"
   ]
  },
  {
   "cell_type": "code",
   "execution_count": null,
   "id": "9fe8ea7f",
   "metadata": {},
   "outputs": [],
   "source": [
    "#count the percent of your labels\n",
    "\n",
    "df1['mort1y'].value_counts(normalize=True) * 100"
   ]
  },
  {
   "cell_type": "code",
   "execution_count": null,
   "id": "0aef5164",
   "metadata": {},
   "outputs": [],
   "source": [
    "#do you have any NA\n",
    "\n",
    "df1.isna().sum().sum()"
   ]
  },
  {
   "cell_type": "code",
   "execution_count": null,
   "id": "fbcaf677-40d8-41aa-b56a-4db3a7e1e15f",
   "metadata": {},
   "outputs": [],
   "source": [
    "#split the labels from the data\n",
    "\n",
    "target_name = \"mort1y\"\n",
    "\n",
    "df = df1.drop(columns=[target_name])\n",
    "df_target = df1[target_name]"
   ]
  },
  {
   "cell_type": "code",
   "execution_count": null,
   "id": "1340de9e",
   "metadata": {},
   "outputs": [],
   "source": [
    "#split the categorical variables from the numerical variables\n",
    "#the categorical variables\n",
    "\n",
    "cate_df = df.select_dtypes(include= 'object')\n",
    "cate_df"
   ]
  },
  {
   "cell_type": "code",
   "execution_count": null,
   "id": "d5fbad27",
   "metadata": {},
   "outputs": [],
   "source": [
    "#the numerical variables\n",
    "\n",
    "numb_df = df.select_dtypes(include= [np.number])\n",
    "numb_df"
   ]
  },
  {
   "cell_type": "markdown",
   "id": "d1e96180",
   "metadata": {},
   "source": [
    "The Numeric Values"
   ]
  },
  {
   "cell_type": "code",
   "execution_count": null,
   "id": "0a84f92c",
   "metadata": {},
   "outputs": [],
   "source": [
    "# summarize the number of rows with missing values for each column\n",
    "\n",
    "percent_missing = numb_df.isnull().sum() * 100 / len(numb_df)\n",
    "\n",
    "missing_value_df = pd.DataFrame({'percent_missing': percent_missing})\n",
    "\n",
    "missing_value_df.sort_values('percent_missing', inplace=True)\n",
    "\n",
    "missing_value_df"
   ]
  },
  {
   "cell_type": "code",
   "execution_count": null,
   "id": "235e6717",
   "metadata": {},
   "outputs": [],
   "source": [
    "#Normalization of data\n",
    "\n",
    "from sklearn.preprocessing import MinMaxScaler\n",
    "\n",
    "scaler = MinMaxScaler()\n",
    "norm_numb_df = pd.DataFrame(scaler.fit_transform(numb_df), columns = numb_df.columns)\n",
    "norm_numb_df.head(5)"
   ]
  },
  {
   "cell_type": "code",
   "execution_count": null,
   "id": "4f8ad43c",
   "metadata": {},
   "outputs": [],
   "source": [
    "# define the imputer\n",
    "# using the KNN methos \n",
    "#you can change the number of neighbors to any number (n_neighbors)\n",
    "\n",
    "from sklearn.impute import KNNImputer\n",
    "\n",
    "imputer = KNNImputer(n_neighbors = 5, weights='uniform', metric='nan_euclidean')"
   ]
  },
  {
   "cell_type": "code",
   "execution_count": null,
   "id": "9549917b",
   "metadata": {},
   "outputs": [],
   "source": [
    "new_numb_df = pd.DataFrame(imputer.fit_transform(norm_numb_df),columns = norm_numb_df.columns)\n",
    "new_numb_df"
   ]
  },
  {
   "cell_type": "code",
   "execution_count": null,
   "id": "8477a970",
   "metadata": {},
   "outputs": [],
   "source": [
    "#count NA after the transformation\n",
    "\n",
    "new_numb_df.isna().sum().sum()"
   ]
  },
  {
   "cell_type": "markdown",
   "id": "28e40b57",
   "metadata": {},
   "source": [
    "The Categorical Values"
   ]
  },
  {
   "cell_type": "code",
   "execution_count": null,
   "id": "bb239f38",
   "metadata": {},
   "outputs": [],
   "source": [
    "from sklearn.experimental import enable_iterative_imputer\n",
    "from sklearn.impute import IterativeImputer"
   ]
  },
  {
   "cell_type": "code",
   "execution_count": null,
   "id": "cfcc7fb4",
   "metadata": {
    "scrolled": true
   },
   "outputs": [],
   "source": [
    "# summarize the number of rows with missing values for each column\n",
    "\n",
    "percent_missing1 = cate_df.isnull().sum() * 100 / len(numb_df)\n",
    "\n",
    "missing_value_df1 = pd.DataFrame({'percent_missing': percent_missing1})\n",
    "\n",
    "missing_value_df1.sort_values('percent_missing', inplace=True)\n",
    "\n",
    "missing_value_df1"
   ]
  },
  {
   "cell_type": "code",
   "execution_count": null,
   "id": "8c590553",
   "metadata": {},
   "outputs": [],
   "source": [
    "#convert the categorical data into dummies variables\n",
    "\n",
    "encode_cate_df = pd.get_dummies(cate_df, columns=cate_df.columns)\n",
    "encode_cate_df.head(5)"
   ]
  },
  {
   "cell_type": "code",
   "execution_count": null,
   "id": "9b5b646e",
   "metadata": {},
   "outputs": [],
   "source": [
    "new_cate_df = pd.DataFrame(imputer.fit_transform(encode_cate_df),columns = encode_cate_df.columns)\n",
    "new_cate_df.head(5)"
   ]
  },
  {
   "cell_type": "code",
   "execution_count": null,
   "id": "bd56a79f",
   "metadata": {},
   "outputs": [],
   "source": [
    "#count after the transformation\n",
    "\n",
    "new_cate_df.isna().sum().sum()"
   ]
  },
  {
   "cell_type": "markdown",
   "id": "ec2107dd",
   "metadata": {},
   "source": [
    "Merging the Data "
   ]
  },
  {
   "cell_type": "code",
   "execution_count": null,
   "id": "a16b151e",
   "metadata": {},
   "outputs": [],
   "source": [
    "new_cate_df.shape , new_numb_df.shape"
   ]
  },
  {
   "cell_type": "code",
   "execution_count": null,
   "id": "f54d06ff",
   "metadata": {},
   "outputs": [],
   "source": [
    "new_df_x = pd.concat([new_cate_df, new_numb_df.reindex(new_cate_df.index)], axis=1)\n",
    "new_df_x.shape"
   ]
  },
  {
   "cell_type": "code",
   "execution_count": null,
   "id": "4ba0e2b9-1567-486e-82ed-c6f7a75fffd7",
   "metadata": {},
   "outputs": [],
   "source": [
    "new_df = pd.concat([new_df_x, df_target.reindex(new_df_x.index)], axis=1)\n",
    "new_df.shape"
   ]
  },
  {
   "cell_type": "code",
   "execution_count": null,
   "id": "83d1723d",
   "metadata": {},
   "outputs": [],
   "source": [
    "new_df.head(5)"
   ]
  },
  {
   "cell_type": "code",
   "execution_count": null,
   "id": "4fc95b18",
   "metadata": {},
   "outputs": [],
   "source": [
    "new_df.isna().sum().sum()"
   ]
  },
  {
   "cell_type": "code",
   "execution_count": null,
   "id": "c48294d3",
   "metadata": {},
   "outputs": [],
   "source": [
    "# Import modules\n",
    "import pandas as pd\n",
    "import numpy as np\n",
    "import matplotlib.pyplot as plt\n",
    "from sklearn.preprocessing import LabelEncoder\n",
    "from keras.wrappers.scikit_learn import KerasClassifier\n",
    "from keras.utils import np_utils\n",
    "\n",
    "# for modeling\n",
    "from keras.models import Sequential\n",
    "from keras.layers import Dense, Dropout\n",
    "from keras.callbacks import EarlyStopping\n",
    "\n",
    "#metrics\n",
    "from sklearn import metrics\n",
    "from sklearn.metrics import classification_report\n",
    "from sklearn.metrics import confusion_matrix\n",
    "from sklearn.metrics import roc_auc_score\n",
    "from sklearn.metrics import roc_curve, auc\n",
    "from sklearn.metrics import matthews_corrcoef\n",
    "\n",
    "#plots\n",
    "import seaborn as sns\n",
    "import matplotlib.pyplot as plt"
   ]
  },
  {
   "cell_type": "markdown",
   "id": "e2fe8340-6f31-432b-aad9-7a22dfe14c97",
   "metadata": {},
   "source": [
    "Prepare the data for the machine learning models"
   ]
  },
  {
   "cell_type": "code",
   "execution_count": null,
   "id": "93fafe2b",
   "metadata": {},
   "outputs": [],
   "source": [
    "from sklearn.model_selection import train_test_split\n",
    "\n",
    "target_name = \"mort1y\"\n",
    "\n",
    "X = new_df.drop(columns=[target_name])\n",
    "y = new_df[target_name]\n",
    "\n",
    "X_train, X_test, y_train, y_test = train_test_split(X, y, test_size= 0.2, random_state=0)"
   ]
  },
  {
   "cell_type": "markdown",
   "id": "81a3b530",
   "metadata": {},
   "source": [
    "SVM"
   ]
  },
  {
   "cell_type": "code",
   "execution_count": null,
   "id": "e63b8592",
   "metadata": {},
   "outputs": [],
   "source": [
    "from sklearn import svm\n",
    "\n",
    "#Create a svm Classifier\n",
    "clf = svm.SVC(kernel='linear') \n",
    "\n",
    "#Train the model using the training sets\n",
    "clf.fit(X_train, y_train)\n",
    "\n",
    "#Predict the response for test dataset\n",
    "svm_pred = clf.predict(X_test)"
   ]
  },
  {
   "cell_type": "code",
   "execution_count": null,
   "id": "032b6855",
   "metadata": {
    "tags": []
   },
   "outputs": [],
   "source": [
    "print(classification_report(y_test, svm_pred))\n",
    "print(confusion_matrix(y_test, svm_pred))"
   ]
  },
  {
   "cell_type": "code",
   "execution_count": null,
   "id": "88698128-394d-4dd6-8556-379841580b6f",
   "metadata": {},
   "outputs": [],
   "source": [
    "svm = confusion_matrix(y_test, svm_pred)\n",
    "sns.heatmap(svm, annot=True, cmap=\"Paired_r\", linewidth=2, linecolor='w', fmt='.0f')\n",
    "plt.xlabel('Predicted Value')\n",
    "plt.ylabel('True Value')\n",
    "plt.show()"
   ]
  },
  {
   "cell_type": "code",
   "execution_count": null,
   "id": "becf08f8",
   "metadata": {},
   "outputs": [],
   "source": [
    "print(\"ROC AUC score for undersampled data: \", roc_auc_score(y_test, svm_pred))"
   ]
  },
  {
   "cell_type": "code",
   "execution_count": null,
   "id": "37d9b5e0-18a4-477b-aef0-884c5b72a8d1",
   "metadata": {},
   "outputs": [],
   "source": [
    "matthews_corrcoef(y_test, svm_pred)"
   ]
  },
  {
   "cell_type": "markdown",
   "id": "6c1445d6",
   "metadata": {},
   "source": [
    "Random Forest"
   ]
  },
  {
   "cell_type": "code",
   "execution_count": null,
   "id": "5506f4d7",
   "metadata": {},
   "outputs": [],
   "source": [
    "from sklearn.ensemble import RandomForestClassifier\n",
    "from sklearn.metrics import RocCurveDisplay\n",
    "from sklearn.datasets import load_wine\n",
    "\n",
    "\n",
    "rfc = RandomForestClassifier(bootstrap= True, max_depth= 10, max_features= 'sqrt', n_estimators= 15, random_state=42)\n",
    "rfc.fit(X_train, y_train)\n",
    "rfc_predictions = rfc.predict(X_test)"
   ]
  },
  {
   "cell_type": "code",
   "execution_count": null,
   "id": "51a6127d",
   "metadata": {},
   "outputs": [],
   "source": [
    "print(classification_report(y_test, rfc_predictions))\n",
    "print(confusion_matrix(y_test, rfc_predictions))"
   ]
  },
  {
   "cell_type": "code",
   "execution_count": null,
   "id": "08c79e63-1c38-4829-b9c4-9edc0eeaab50",
   "metadata": {},
   "outputs": [],
   "source": [
    "rf = confusion_matrix(y_test, rfc_predictions)\n",
    "sns.heatmap(rf, annot=True, cmap=\"Paired_r\", linewidth=2, linecolor='w', fmt='.0f')\n",
    "plt.xlabel('Predicted Value')\n",
    "plt.ylabel('True Value')\n",
    "plt.show()"
   ]
  },
  {
   "cell_type": "code",
   "execution_count": null,
   "id": "ec2e1f92",
   "metadata": {},
   "outputs": [],
   "source": [
    "print(\"ROC AUC score for undersampled data: \", roc_auc_score(y_test, rfc_predictions))"
   ]
  },
  {
   "cell_type": "code",
   "execution_count": null,
   "id": "d611d69d-d777-4b2a-9676-8587663b1f61",
   "metadata": {},
   "outputs": [],
   "source": [
    "matthews_corrcoef(y_test, rfc_predictions)"
   ]
  },
  {
   "cell_type": "markdown",
   "id": "bc98b236",
   "metadata": {},
   "source": [
    "Decision Tree"
   ]
  },
  {
   "cell_type": "code",
   "execution_count": null,
   "id": "cff7cce4",
   "metadata": {},
   "outputs": [],
   "source": [
    "from sklearn.tree import DecisionTreeClassifier\n",
    "\n",
    "model = DecisionTreeClassifier(criterion= 'gini', max_depth= 2, min_samples_leaf= 50)\n",
    "model.fit(X_train, y_train)\n",
    "predictions = model.predict(X_test)"
   ]
  },
  {
   "cell_type": "code",
   "execution_count": null,
   "id": "34119f0a",
   "metadata": {},
   "outputs": [],
   "source": [
    "print(classification_report(y_test, predictions))\n",
    "print(confusion_matrix(y_test, predictions))"
   ]
  },
  {
   "cell_type": "code",
   "execution_count": null,
   "id": "9994ab45-a7c3-4775-a69c-8fc49d0a43fa",
   "metadata": {},
   "outputs": [],
   "source": [
    "dt = confusion_matrix(y_test, predictions)\n",
    "sns.heatmap(dt, annot=True, cmap=\"Paired_r\", linewidth=2, linecolor='w', fmt='.0f')\n",
    "plt.xlabel('Predicted Value')\n",
    "plt.ylabel('True Value')\n",
    "plt.show()"
   ]
  },
  {
   "cell_type": "code",
   "execution_count": null,
   "id": "79285ef0",
   "metadata": {},
   "outputs": [],
   "source": [
    "print(\"ROC AUC score for undersampled data: \", roc_auc_score(y_test, predictions))"
   ]
  },
  {
   "cell_type": "code",
   "execution_count": null,
   "id": "97060bff-b6b9-4fcd-bd89-088f2d6d128f",
   "metadata": {},
   "outputs": [],
   "source": [
    "matthews_corrcoef(y_test, predictions)"
   ]
  },
  {
   "cell_type": "markdown",
   "id": "206b3660",
   "metadata": {},
   "source": [
    "XgBoost Classifier"
   ]
  },
  {
   "cell_type": "code",
   "execution_count": null,
   "id": "28b89f4d-4f90-4f46-9a06-3037f2e3ef66",
   "metadata": {},
   "outputs": [],
   "source": [
    "import xgboost as xgb\n",
    "from xgboost import XGBClassifier\n",
    "\n",
    "xgb_model = xgb.XGBClassifier(base_score=0.5, booster='gbtree', callbacks=None,\n",
    "              colsample_bylevel=1, colsample_bynode=1, colsample_bytree=1,\n",
    "              early_stopping_rounds=None, enable_categorical=False,\n",
    "              eval_metric=None, gamma=0, gpu_id=-1, grow_policy='depthwise',\n",
    "              importance_type=None, interaction_constraints='',\n",
    "              learning_rate=0.1, max_bin=256, max_cat_to_onehot=4,\n",
    "              max_delta_step=0, max_depth=3, max_leaves=0, min_child_weight=1,\n",
    "              monotone_constraints='()', n_estimators=140,\n",
    "              n_jobs=4, nthread=4, num_parallel_tree=1, predictor='auto',\n",
    "              random_state=42, reg_alpha=0)\n",
    "\n",
    "xgb_model.fit(X_train, y_train)\n",
    "predicted_y = xgb_model.predict(X_test)"
   ]
  },
  {
   "cell_type": "code",
   "execution_count": null,
   "id": "317d059d-26c0-4288-a825-269765d182bf",
   "metadata": {},
   "outputs": [],
   "source": [
    "print(metrics.classification_report(y_test, predicted_y))\n",
    "print(metrics.confusion_matrix(y_test, predicted_y))"
   ]
  },
  {
   "cell_type": "code",
   "execution_count": null,
   "id": "1d184930-6ba8-4e38-9d1b-982f71808d2d",
   "metadata": {},
   "outputs": [],
   "source": [
    "xgb = confusion_matrix(y_test, predicted_y)\n",
    "sns.heatmap(xgb, annot=True, cmap=\"Paired_r\", linewidth=2, linecolor='w', fmt='.0f')\n",
    "plt.xlabel('Predicted Value')\n",
    "plt.ylabel('True Value')\n",
    "plt.show()"
   ]
  },
  {
   "cell_type": "code",
   "execution_count": null,
   "id": "deefdf02",
   "metadata": {},
   "outputs": [],
   "source": [
    "print(\"ROC AUC score for undersampled data: \", roc_auc_score(y_test, predicted_y))"
   ]
  },
  {
   "cell_type": "code",
   "execution_count": null,
   "id": "8f059cb2-fbfd-4578-b453-146d5fc2fd90",
   "metadata": {},
   "outputs": [],
   "source": [
    "matthews_corrcoef(y_test, predicted_y)"
   ]
  },
  {
   "cell_type": "markdown",
   "id": "0a10eb4e-7f9b-4012-ac30-49db7679f6a2",
   "metadata": {},
   "source": [
    "GradientBoostingClassifier"
   ]
  },
  {
   "cell_type": "code",
   "execution_count": null,
   "id": "c8a52e39-1068-42db-8bdb-122194324bb6",
   "metadata": {},
   "outputs": [],
   "source": [
    "from sklearn.ensemble import GradientBoostingClassifier\n",
    "\n",
    "gbc = GradientBoostingClassifier(learning_rate= 0.1, loss= 'log_loss', max_depth= 20, n_estimators= 10)\n",
    "gbc.fit(X_train, y_train)\n",
    "\n",
    "gbc_predicted_y = gbc.predict(X_test)"
   ]
  },
  {
   "cell_type": "code",
   "execution_count": null,
   "id": "44de8c04-0c28-44f0-ae04-a0ffb21c015e",
   "metadata": {},
   "outputs": [],
   "source": [
    "print(metrics.classification_report(y_test, gbc_predicted_y))\n",
    "print(metrics.confusion_matrix(y_test, gbc_predicted_y))"
   ]
  },
  {
   "cell_type": "code",
   "execution_count": null,
   "id": "db0bb1ca-5a90-4322-a035-46c58d32546d",
   "metadata": {},
   "outputs": [],
   "source": [
    "gbc = confusion_matrix(y_test, gbc_predicted_y)\n",
    "sns.heatmap(gbc, annot=True, cmap=\"Paired_r\", linewidth=2, linecolor='w', fmt='.0f')\n",
    "plt.xlabel('Predicted Value')\n",
    "plt.ylabel('True Value')\n",
    "plt.show()"
   ]
  },
  {
   "cell_type": "code",
   "execution_count": null,
   "id": "e76e6066",
   "metadata": {},
   "outputs": [],
   "source": [
    "print(\"ROC AUC score for undersampled data: \", roc_auc_score(y_test, gbc_predicted_y))"
   ]
  },
  {
   "cell_type": "code",
   "execution_count": null,
   "id": "ed1a2f4b-77ea-47a4-8a12-0e3e60c41d63",
   "metadata": {},
   "outputs": [],
   "source": [
    "matthews_corrcoef(y_test, gbc_predicted_y)"
   ]
  },
  {
   "cell_type": "markdown",
   "id": "905aaaa6",
   "metadata": {},
   "source": [
    "AUC Curve"
   ]
  },
  {
   "cell_type": "code",
   "execution_count": null,
   "id": "042bf727",
   "metadata": {},
   "outputs": [],
   "source": [
    "SVM_fpr, SVM_tpr, threshold = roc_curve(y_test, svm_pred)\n",
    "auc_SVM = auc(SVM_fpr, SVM_tpr)\n",
    "\n",
    "RF_fpr, RF_tpr, threshold = roc_curve(y_test, rfc_predictions)\n",
    "auc_RF = auc(RF_fpr, RF_tpr)\n",
    "\n",
    "DT_fpr, DT_tpr, threshold = roc_curve(y_test, predictions)\n",
    "auc_DT = auc(DT_fpr, DT_tpr)\n",
    "\n",
    "XGB_fpr, XGB_tpr, threshold = roc_curve(y_test, predicted_y)\n",
    "auc_XGB = auc(XGB_fpr, XGB_tpr)\n",
    "\n",
    "GBC_fpr, GBC_tpr, threshold = roc_curve(y_test, gbc_predicted_y)\n",
    "auc_GBC = auc(GBC_fpr, GBC_tpr)\n",
    "\n",
    "plt.figure(figsize=(5, 5), dpi=100)\n",
    "\n",
    "#plt.plot(NN_fpr,  NN_tpr,  linestyle='-', label='NN (auc = %0.3f)'  % auc_NN )\n",
    "plt.plot(SVM_fpr, SVM_tpr, linestyle='-', label='SVM (auc = %0.3f)' % auc_SVM)\n",
    "plt.plot(RF_fpr,  RF_tpr,  marker='.',    label='RF (auc = %0.3f)'  % auc_RF )\n",
    "plt.plot(DT_fpr,  DT_tpr,  marker='.',    label='DT (auc = %0.3f)'  % auc_DT )\n",
    "plt.plot(XGB_fpr, XGB_tpr, marker='.',    label='XGB (auc = %0.3f)' % auc_XGB)\n",
    "plt.plot(GBC_fpr, GBC_tpr, marker='.',    label='GBC (auc = %0.3f)' % auc_GBC)\n",
    "\n",
    "plt.xlabel('False Positive Rate')\n",
    "plt.ylabel('True Positive Rate')\n",
    "\n",
    "plt.legend()\n",
    "\n",
    "plt.show()\n",
    "plt.savefig('bfs.jpg')"
   ]
  },
  {
   "cell_type": "markdown",
   "id": "d6a97e88",
   "metadata": {},
   "source": [
    "Imbalanced Data"
   ]
  },
  {
   "cell_type": "markdown",
   "id": "accda93f",
   "metadata": {},
   "source": [
    "Under-Sampling"
   ]
  },
  {
   "cell_type": "code",
   "execution_count": null,
   "id": "2fbd506d",
   "metadata": {},
   "outputs": [],
   "source": [
    "# import random undersampling \n",
    "\n",
    "from collections import Counter\n",
    "from imblearn.under_sampling import RandomUnderSampler"
   ]
  },
  {
   "cell_type": "code",
   "execution_count": null,
   "id": "d739e906",
   "metadata": {},
   "outputs": [],
   "source": [
    "new_df.shape"
   ]
  },
  {
   "cell_type": "code",
   "execution_count": null,
   "id": "8848c2a3",
   "metadata": {},
   "outputs": [],
   "source": [
    "# summarize class distribution\n",
    "print(\"Before undersampling: \", Counter(y_train))\n",
    "\n",
    "# define undersampling strategy\n",
    "undersample = RandomUnderSampler(sampling_strategy='majority')\n",
    "\n",
    "# fit and apply the transform\n",
    "X_train_under, y_train_under = undersample.fit_resample(X_train, y_train)\n",
    "\n",
    "# summarize class distribution\n",
    "print(\"After undersampling: \", Counter(y_train_under))"
   ]
  },
  {
   "cell_type": "markdown",
   "id": "111b93dc",
   "metadata": {},
   "source": [
    "SVM"
   ]
  },
  {
   "cell_type": "code",
   "execution_count": null,
   "id": "5e185a7e",
   "metadata": {},
   "outputs": [],
   "source": [
    "from sklearn import svm\n",
    "\n",
    "#Create a svm Classifier\n",
    "clf = svm.SVC(kernel='linear') \n",
    "\n",
    "#Train the model using the training sets\n",
    "clf.fit(X_train_under, y_train_under)\n",
    "\n",
    "#Predict the response for test dataset\n",
    "svm_pred_under = clf.predict(X_test)"
   ]
  },
  {
   "cell_type": "code",
   "execution_count": null,
   "id": "4b076a0f",
   "metadata": {},
   "outputs": [],
   "source": [
    "print(classification_report(y_test, svm_pred_under))\n",
    "print(confusion_matrix(y_test, svm_pred_under))"
   ]
  },
  {
   "cell_type": "code",
   "execution_count": null,
   "id": "3b458bd4",
   "metadata": {},
   "outputs": [],
   "source": [
    "svm = confusion_matrix(y_test, svm_pred_under)\n",
    "sns.heatmap(svm, annot=True, cmap=\"Paired_r\", linewidth=2, linecolor='w', fmt='.0f')\n",
    "plt.xlabel('Predicted Value')\n",
    "plt.ylabel('True Value')\n",
    "plt.show()"
   ]
  },
  {
   "cell_type": "code",
   "execution_count": null,
   "id": "5cee5099",
   "metadata": {},
   "outputs": [],
   "source": [
    "print(\"ROC AUC score for undersampled data: \", roc_auc_score(y_test, svm_pred_under))"
   ]
  },
  {
   "cell_type": "code",
   "execution_count": null,
   "id": "00540872-69c0-4eb4-87d1-eed769752189",
   "metadata": {},
   "outputs": [],
   "source": [
    "matthews_corrcoef(y_test, svm_pred_under)"
   ]
  },
  {
   "cell_type": "markdown",
   "id": "2ae7900c",
   "metadata": {},
   "source": [
    "Random Forest"
   ]
  },
  {
   "cell_type": "code",
   "execution_count": null,
   "id": "933f5a1c",
   "metadata": {},
   "outputs": [],
   "source": [
    "from sklearn.ensemble import RandomForestClassifier\n",
    "from sklearn.metrics import RocCurveDisplay\n",
    "from sklearn.datasets import load_wine\n",
    "\n",
    "\n",
    "rfc = RandomForestClassifier(bootstrap= True, max_depth= 10, max_features= 'sqrt', n_estimators= 15, random_state=42)\n",
    "rfc.fit(X_train_under, y_train_under)\n",
    "rfc_predictions_under = rfc.predict(X_test)"
   ]
  },
  {
   "cell_type": "code",
   "execution_count": null,
   "id": "d135e0ab",
   "metadata": {},
   "outputs": [],
   "source": [
    "print(classification_report(y_test, rfc_predictions_under))\n",
    "print(confusion_matrix(y_test, rfc_predictions_under))"
   ]
  },
  {
   "cell_type": "code",
   "execution_count": null,
   "id": "419abbcb",
   "metadata": {},
   "outputs": [],
   "source": [
    "rf = confusion_matrix(y_test, rfc_predictions_under)\n",
    "sns.heatmap(rf, annot=True, cmap=\"Paired_r\", linewidth=2, linecolor='w', fmt='.0f')\n",
    "plt.xlabel('Predicted Value')\n",
    "plt.ylabel('True Value')\n",
    "plt.show()"
   ]
  },
  {
   "cell_type": "code",
   "execution_count": null,
   "id": "3a41f517",
   "metadata": {},
   "outputs": [],
   "source": [
    "print(\"ROC AUC score for undersampled data: \", roc_auc_score(y_test, rfc_predictions_under))"
   ]
  },
  {
   "cell_type": "code",
   "execution_count": null,
   "id": "8127697e-4e66-49dd-ba64-ab3c0d39b564",
   "metadata": {},
   "outputs": [],
   "source": [
    "matthews_corrcoef(y_test, rfc_predictions_under)"
   ]
  },
  {
   "cell_type": "markdown",
   "id": "5b77578f",
   "metadata": {},
   "source": [
    "Decision Tree"
   ]
  },
  {
   "cell_type": "code",
   "execution_count": null,
   "id": "361ae2f7",
   "metadata": {},
   "outputs": [],
   "source": [
    "from sklearn.tree import DecisionTreeClassifier\n",
    "\n",
    "model = DecisionTreeClassifier(criterion= 'gini', max_depth= 2, min_samples_leaf= 50)\n",
    "model.fit(X_train_under, y_train_under)\n",
    "dt_pred_under = model.predict(X_test)"
   ]
  },
  {
   "cell_type": "code",
   "execution_count": null,
   "id": "ba7cb56f",
   "metadata": {},
   "outputs": [],
   "source": [
    "print(classification_report(y_test, dt_pred_under))\n",
    "print(confusion_matrix(y_test, dt_pred_under))"
   ]
  },
  {
   "cell_type": "code",
   "execution_count": null,
   "id": "f42772e9",
   "metadata": {},
   "outputs": [],
   "source": [
    "dt = confusion_matrix(y_test, dt_pred_under)\n",
    "sns.heatmap(dt, annot=True, cmap=\"Paired_r\", linewidth=2, linecolor='w', fmt='.0f')\n",
    "plt.xlabel('Predicted Value')\n",
    "plt.ylabel('True Value')\n",
    "plt.show()"
   ]
  },
  {
   "cell_type": "code",
   "execution_count": null,
   "id": "9e352a44",
   "metadata": {},
   "outputs": [],
   "source": [
    "print(\"ROC AUC score for undersampled data: \", roc_auc_score(y_test, dt_pred_under))"
   ]
  },
  {
   "cell_type": "code",
   "execution_count": null,
   "id": "70cb909f-9fe8-407f-bce6-053d32b837c6",
   "metadata": {},
   "outputs": [],
   "source": [
    "matthews_corrcoef(y_test, dt_pred_under)"
   ]
  },
  {
   "cell_type": "markdown",
   "id": "669828c9",
   "metadata": {},
   "source": [
    "XGBoost Classifier"
   ]
  },
  {
   "cell_type": "code",
   "execution_count": null,
   "id": "ef26dd36",
   "metadata": {},
   "outputs": [],
   "source": [
    "import xgboost as xgb\n",
    "from xgboost import XGBClassifier\n",
    "from sklearn import metrics\n",
    "\n",
    "xgb_model = xgb.XGBClassifier(base_score=0.5, booster='gbtree', callbacks=None,\n",
    "              colsample_bylevel=1, colsample_bynode=1, colsample_bytree=1,\n",
    "              early_stopping_rounds=None, enable_categorical=False,\n",
    "              eval_metric=None, gamma=0, gpu_id=-1, grow_policy='depthwise',\n",
    "              importance_type=None, interaction_constraints='',\n",
    "              learning_rate=0.1, max_bin=256, max_cat_to_onehot=4,\n",
    "              max_delta_step=0, max_depth=3, max_leaves=0, min_child_weight=1,\n",
    "              monotone_constraints='()', n_estimators=140,\n",
    "              n_jobs=4, nthread=4, num_parallel_tree=1, predictor='auto',\n",
    "              random_state=42, reg_alpha=0)\n",
    "\n",
    "xgb_model.fit(X_train_under, y_train_under)\n",
    "predicted_y_under = xgb_model.predict(X_test)"
   ]
  },
  {
   "cell_type": "code",
   "execution_count": null,
   "id": "ee39fb7a",
   "metadata": {},
   "outputs": [],
   "source": [
    "print(metrics.classification_report(y_test, predicted_y_under))\n",
    "print(metrics.confusion_matrix(y_test, predicted_y_under))"
   ]
  },
  {
   "cell_type": "code",
   "execution_count": null,
   "id": "d36463bb",
   "metadata": {},
   "outputs": [],
   "source": [
    "xgb = confusion_matrix(y_test, predicted_y_under)\n",
    "sns.heatmap(xgb, annot=True, cmap=\"Paired_r\", linewidth=2, linecolor='w', fmt='.0f')\n",
    "plt.xlabel('Predicted Value')\n",
    "plt.ylabel('True Value')\n",
    "plt.show()"
   ]
  },
  {
   "cell_type": "code",
   "execution_count": null,
   "id": "e5de9c3a",
   "metadata": {},
   "outputs": [],
   "source": [
    "print(\"ROC AUC score for undersampled data: \", roc_auc_score(y_test, predicted_y_under))"
   ]
  },
  {
   "cell_type": "code",
   "execution_count": null,
   "id": "e236cbc3-5033-4f8b-8abd-72fc0ed9d5e0",
   "metadata": {},
   "outputs": [],
   "source": [
    "matthews_corrcoef(y_test, predicted_y_under)"
   ]
  },
  {
   "cell_type": "markdown",
   "id": "f2ffe749",
   "metadata": {},
   "source": [
    "GradientBoostClassifier"
   ]
  },
  {
   "cell_type": "code",
   "execution_count": null,
   "id": "dcd73edd",
   "metadata": {},
   "outputs": [],
   "source": [
    "from sklearn.ensemble import GradientBoostingClassifier\n",
    "\n",
    "gbc = GradientBoostingClassifier(learning_rate= 0.1, loss= 'log_loss', max_depth= 20, n_estimators= 10)\n",
    "gbc.fit(X_train_under, y_train_under)\n",
    "\n",
    "gbc_predicted_y_under = gbc.predict(X_test)"
   ]
  },
  {
   "cell_type": "code",
   "execution_count": null,
   "id": "1a1d1194",
   "metadata": {},
   "outputs": [],
   "source": [
    "print(metrics.classification_report(y_test, gbc_predicted_y_under))\n",
    "print(metrics.confusion_matrix(y_test, gbc_predicted_y_under))"
   ]
  },
  {
   "cell_type": "code",
   "execution_count": null,
   "id": "faee20e7",
   "metadata": {},
   "outputs": [],
   "source": [
    "gbc = confusion_matrix(y_test, gbc_predicted_y_under)\n",
    "sns.heatmap(gbc, annot=True, cmap=\"Paired_r\", linewidth=2, linecolor='w', fmt='.0f')\n",
    "plt.xlabel('Predicted Value')\n",
    "plt.ylabel('True Value')\n",
    "plt.show()"
   ]
  },
  {
   "cell_type": "code",
   "execution_count": null,
   "id": "d448c35d",
   "metadata": {},
   "outputs": [],
   "source": [
    "print(\"ROC AUC score for undersampled data: \", roc_auc_score(y_test, gbc_predicted_y_under))"
   ]
  },
  {
   "cell_type": "code",
   "execution_count": null,
   "id": "ee9bdf3c-e780-46d8-9722-7b80d070e861",
   "metadata": {},
   "outputs": [],
   "source": [
    "matthews_corrcoef(y_test, gbc_predicted_y_under)"
   ]
  },
  {
   "cell_type": "markdown",
   "id": "091f153a",
   "metadata": {},
   "source": [
    "AUC"
   ]
  },
  {
   "cell_type": "code",
   "execution_count": null,
   "id": "c54f0fe5",
   "metadata": {},
   "outputs": [],
   "source": [
    "SVM_fpr, SVM_tpr, threshold = roc_curve(y_test, svm_pred_under)\n",
    "auc_SVM = auc(SVM_fpr, SVM_tpr)\n",
    "\n",
    "RF_fpr, RF_tpr, threshold = roc_curve(y_test, rfc_predictions_under)\n",
    "auc_RF = auc(RF_fpr, RF_tpr)\n",
    "\n",
    "DT_fpr, DT_tpr, threshold = roc_curve(y_test, dt_pred_under)\n",
    "auc_DT = auc(DT_fpr, DT_tpr)\n",
    "\n",
    "XGB_fpr, XGB_tpr, threshold = roc_curve(y_test, predicted_y_under)\n",
    "auc_XGB = auc(XGB_fpr, XGB_tpr)\n",
    "\n",
    "GBC_fpr, GBC_tpr, threshold = roc_curve(y_test, gbc_predicted_y_under)\n",
    "auc_GBC = auc(GBC_fpr, GBC_tpr)\n",
    "\n",
    "plt.figure(figsize=(5, 5), dpi=100)\n",
    "\n",
    "#plt.plot(NN_fpr,  NN_tpr,  linestyle='-', label='NN (auc = %0.3f)'  % auc_NN )\n",
    "plt.plot(SVM_fpr, SVM_tpr, linestyle='-', label='SVM (auc = %0.3f)' % auc_SVM)\n",
    "plt.plot(RF_fpr,  RF_tpr,  marker='.',    label='RF (auc = %0.3f)'  % auc_RF )\n",
    "plt.plot(DT_fpr,  DT_tpr,  marker='.',    label='DT (auc = %0.3f)'  % auc_DT )\n",
    "plt.plot(XGB_fpr, XGB_tpr, marker='.',    label='XGB (auc = %0.3f)' % auc_XGB)\n",
    "plt.plot(GBC_fpr, GBC_tpr, marker='.',    label='GBC (auc = %0.3f)' % auc_GBC)\n",
    "\n",
    "plt.xlabel('False Positive Rate')\n",
    "plt.ylabel('True Positive Rate')\n",
    "\n",
    "plt.legend()\n",
    "\n",
    "plt.show()\n",
    "plt.savefig('bfs.jpg')"
   ]
  },
  {
   "cell_type": "markdown",
   "id": "22c577e9",
   "metadata": {},
   "source": [
    "Over-Sampling ==> SMOTE (Synthetic Minority Oversampling Technique))"
   ]
  },
  {
   "cell_type": "code",
   "execution_count": null,
   "id": "a1806213",
   "metadata": {},
   "outputs": [],
   "source": [
    "# import SMOTE oversampling \n",
    "\n",
    "from imblearn.over_sampling import SMOTE"
   ]
  },
  {
   "cell_type": "code",
   "execution_count": null,
   "id": "792e0993",
   "metadata": {},
   "outputs": [],
   "source": [
    "# summarize class distribution\n",
    "print(\"Before undersampling: \", Counter(y_train))\n",
    "\n",
    "# define oversampling strategy\n",
    "SMOTE = SMOTE()\n",
    "\n",
    "# fit and apply the transform\n",
    "X_train_smote, y_train_smote = SMOTE.fit_resample(X_train, y_train)\n",
    "\n",
    "# summarize class distribution\n",
    "print(\"After oversampling: \",Counter(y_train_smote))"
   ]
  },
  {
   "cell_type": "markdown",
   "id": "371a074e",
   "metadata": {},
   "source": [
    "SVM"
   ]
  },
  {
   "cell_type": "code",
   "execution_count": null,
   "id": "ea923de9",
   "metadata": {},
   "outputs": [],
   "source": [
    "from sklearn import svm\n",
    "\n",
    "#Create a svm Classifier\n",
    "clf = svm.SVC(kernel='linear') \n",
    "\n",
    "#Train the model using the training sets\n",
    "clf.fit(X_train_smote, y_train_smote)\n",
    "\n",
    "#Predict the response for test dataset\n",
    "svm_pred_over = clf.predict(X_test)"
   ]
  },
  {
   "cell_type": "code",
   "execution_count": null,
   "id": "27d04033",
   "metadata": {},
   "outputs": [],
   "source": [
    "print(classification_report(y_test, svm_pred_over))\n",
    "print(confusion_matrix(y_test, svm_pred_over))"
   ]
  },
  {
   "cell_type": "code",
   "execution_count": null,
   "id": "c83df5c6",
   "metadata": {},
   "outputs": [],
   "source": [
    "svm = confusion_matrix(y_test, svm_pred_over)\n",
    "sns.heatmap(svm, annot=True, cmap=\"Paired_r\", linewidth=2, linecolor='w', fmt='.0f')\n",
    "plt.xlabel('Predicted Value')\n",
    "plt.ylabel('True Value')\n",
    "plt.show()"
   ]
  },
  {
   "cell_type": "code",
   "execution_count": null,
   "id": "912a5b30",
   "metadata": {},
   "outputs": [],
   "source": [
    "print(\"ROC AUC score for undersampled data: \", roc_auc_score(y_test, svm_pred_over))"
   ]
  },
  {
   "cell_type": "code",
   "execution_count": null,
   "id": "4ecbc1ef-fde3-4e0b-8319-31f9d9daf5c3",
   "metadata": {},
   "outputs": [],
   "source": [
    "matthews_corrcoef(y_test, svm_pred_over)"
   ]
  },
  {
   "cell_type": "markdown",
   "id": "1ec06e19",
   "metadata": {},
   "source": [
    "Random Forest"
   ]
  },
  {
   "cell_type": "code",
   "execution_count": null,
   "id": "4d62957d",
   "metadata": {},
   "outputs": [],
   "source": [
    "from sklearn.ensemble import RandomForestClassifier\n",
    "from sklearn.metrics import RocCurveDisplay\n",
    "from sklearn.datasets import load_wine\n",
    "\n",
    "\n",
    "rfc = RandomForestClassifier(bootstrap= True, max_depth= 10, max_features= 'sqrt', n_estimators= 15, random_state=42)\n",
    "rfc.fit(X_train_smote, y_train_smote)\n",
    "rfc_predictions_over = rfc.predict(X_test)"
   ]
  },
  {
   "cell_type": "code",
   "execution_count": null,
   "id": "3931713b",
   "metadata": {},
   "outputs": [],
   "source": [
    "print(classification_report(y_test, rfc_predictions_over))\n",
    "print(confusion_matrix(y_test, rfc_predictions_over))"
   ]
  },
  {
   "cell_type": "code",
   "execution_count": null,
   "id": "0bf12679",
   "metadata": {},
   "outputs": [],
   "source": [
    "rf = confusion_matrix(y_test, rfc_predictions_over)\n",
    "sns.heatmap(rf, annot=True, cmap=\"Paired_r\", linewidth=2, linecolor='w', fmt='.0f')\n",
    "plt.xlabel('Predicted Value')\n",
    "plt.ylabel('True Value')\n",
    "plt.show()"
   ]
  },
  {
   "cell_type": "code",
   "execution_count": null,
   "id": "ee3da841",
   "metadata": {},
   "outputs": [],
   "source": [
    "print(\"ROC AUC score for undersampled data: \", roc_auc_score(y_test, rfc_predictions_over))"
   ]
  },
  {
   "cell_type": "code",
   "execution_count": null,
   "id": "beff045a-d6ef-4ef8-ae26-abd76905a5cd",
   "metadata": {},
   "outputs": [],
   "source": [
    "matthews_corrcoef(y_test, rfc_predictions_over)"
   ]
  },
  {
   "cell_type": "markdown",
   "id": "3f9de080",
   "metadata": {},
   "source": [
    "Decision Tree"
   ]
  },
  {
   "cell_type": "code",
   "execution_count": null,
   "id": "fca5351d",
   "metadata": {},
   "outputs": [],
   "source": [
    "from sklearn.tree import DecisionTreeClassifier\n",
    "\n",
    "model = DecisionTreeClassifier(criterion= 'gini', max_depth= 2, min_samples_leaf= 50)\n",
    "model.fit(X_train_smote, y_train_smote)\n",
    "dt_pred_over = model.predict(X_test)"
   ]
  },
  {
   "cell_type": "code",
   "execution_count": null,
   "id": "18335d4f",
   "metadata": {},
   "outputs": [],
   "source": [
    "print(classification_report(y_test, dt_pred_over))\n",
    "print(confusion_matrix(y_test, dt_pred_over))"
   ]
  },
  {
   "cell_type": "code",
   "execution_count": null,
   "id": "49ebaf0f",
   "metadata": {},
   "outputs": [],
   "source": [
    "dt = confusion_matrix(y_test, dt_pred_over)\n",
    "sns.heatmap(dt, annot=True, cmap=\"Paired_r\", linewidth=2, linecolor='w', fmt='.0f')\n",
    "plt.xlabel('Predicted Value')\n",
    "plt.ylabel('True Value')\n",
    "plt.show()"
   ]
  },
  {
   "cell_type": "code",
   "execution_count": null,
   "id": "27a84615",
   "metadata": {},
   "outputs": [],
   "source": [
    "print(\"ROC AUC score for undersampled data: \", roc_auc_score(y_test, dt_pred_over))"
   ]
  },
  {
   "cell_type": "code",
   "execution_count": null,
   "id": "f2a1fff9-104e-464d-8c62-3b8c77a97060",
   "metadata": {},
   "outputs": [],
   "source": [
    "matthews_corrcoef(y_test, dt_pred_over)"
   ]
  },
  {
   "cell_type": "markdown",
   "id": "dc3887d7",
   "metadata": {},
   "source": [
    "XGBoostClassifier"
   ]
  },
  {
   "cell_type": "code",
   "execution_count": null,
   "id": "02f39f57",
   "metadata": {},
   "outputs": [],
   "source": [
    "import xgboost as xgb\n",
    "from xgboost import XGBClassifier\n",
    "from sklearn import metrics\n",
    "\n",
    "xgb_model = xgb.XGBClassifier(base_score=0.5, booster='gbtree', callbacks=None,\n",
    "              colsample_bylevel=1, colsample_bynode=1, colsample_bytree=1,\n",
    "              early_stopping_rounds=None, enable_categorical=False,\n",
    "              eval_metric=None, gamma=0, gpu_id=-1, grow_policy='depthwise',\n",
    "              importance_type=None, interaction_constraints='',\n",
    "              learning_rate=0.1, max_bin=256, max_cat_to_onehot=4,\n",
    "              max_delta_step=0, max_depth=3, max_leaves=0, min_child_weight=1,\n",
    "              monotone_constraints='()', n_estimators=140,\n",
    "              n_jobs=4, nthread=4, num_parallel_tree=1, predictor='auto',\n",
    "              random_state=42, reg_alpha=0)\n",
    "\n",
    "xgb_model.fit(X_train_smote, y_train_smote)\n",
    "predicted_y_over = xgb_model.predict(X_test)"
   ]
  },
  {
   "cell_type": "code",
   "execution_count": null,
   "id": "70f8aca4",
   "metadata": {},
   "outputs": [],
   "source": [
    "print(metrics.classification_report(y_test, predicted_y_over))\n",
    "print(metrics.confusion_matrix(y_test, predicted_y_over))"
   ]
  },
  {
   "cell_type": "code",
   "execution_count": null,
   "id": "2e9e9c7f",
   "metadata": {},
   "outputs": [],
   "source": [
    "xgb = confusion_matrix(y_test, predicted_y_over)\n",
    "sns.heatmap(xgb, annot=True, cmap=\"Paired_r\", linewidth=2, linecolor='w', fmt='.0f')\n",
    "plt.xlabel('Predicted Value')\n",
    "plt.ylabel('True Value')\n",
    "plt.show()"
   ]
  },
  {
   "cell_type": "code",
   "execution_count": null,
   "id": "001c465a",
   "metadata": {},
   "outputs": [],
   "source": [
    "print(\"ROC AUC score for undersampled data: \", roc_auc_score(y_test, predicted_y_over))"
   ]
  },
  {
   "cell_type": "code",
   "execution_count": null,
   "id": "15724e10-873c-4c25-bfa6-1a9d08f2f587",
   "metadata": {},
   "outputs": [],
   "source": [
    "matthews_corrcoef(y_test, predicted_y_over)"
   ]
  },
  {
   "cell_type": "markdown",
   "id": "94eeb101",
   "metadata": {},
   "source": [
    "GradientBoostClassifier"
   ]
  },
  {
   "cell_type": "code",
   "execution_count": null,
   "id": "8a119a4c",
   "metadata": {},
   "outputs": [],
   "source": [
    "from sklearn.ensemble import GradientBoostingClassifier\n",
    "\n",
    "gbc = GradientBoostingClassifier(learning_rate= 0.1, loss= 'log_loss', max_depth= 20, n_estimators= 10)\n",
    "gbc.fit(X_train_smote, y_train_smote)\n",
    "\n",
    "gbc_predicted_y_over = gbc.predict(X_test)"
   ]
  },
  {
   "cell_type": "code",
   "execution_count": null,
   "id": "356c6e76",
   "metadata": {},
   "outputs": [],
   "source": [
    "print(metrics.classification_report(y_test, gbc_predicted_y_over))\n",
    "print(metrics.confusion_matrix(y_test, gbc_predicted_y_over))"
   ]
  },
  {
   "cell_type": "code",
   "execution_count": null,
   "id": "43df97d0",
   "metadata": {},
   "outputs": [],
   "source": [
    "gbc = confusion_matrix(y_test, gbc_predicted_y_over)\n",
    "sns.heatmap(gbc, annot=True, cmap=\"Paired_r\", linewidth=2, linecolor='w', fmt='.0f')\n",
    "plt.xlabel('Predicted Value')\n",
    "plt.ylabel('True Value')\n",
    "plt.show()"
   ]
  },
  {
   "cell_type": "code",
   "execution_count": null,
   "id": "35e9d462",
   "metadata": {},
   "outputs": [],
   "source": [
    "print(\"ROC AUC score for undersampled data: \", roc_auc_score(y_test, gbc_predicted_y_under))"
   ]
  },
  {
   "cell_type": "code",
   "execution_count": null,
   "id": "599b9fdf-b8c9-4d33-a0e6-5dfb98a38e8b",
   "metadata": {},
   "outputs": [],
   "source": [
    "matthews_corrcoef(y_test, gbc_predicted_y_under)"
   ]
  },
  {
   "cell_type": "markdown",
   "id": "d3ef3c3c",
   "metadata": {},
   "source": [
    "AUC"
   ]
  },
  {
   "cell_type": "code",
   "execution_count": null,
   "id": "31833064",
   "metadata": {},
   "outputs": [],
   "source": [
    "SVM_fpr, SVM_tpr, threshold = roc_curve(y_test, svm_pred_over)\n",
    "auc_SVM = auc(SVM_fpr, SVM_tpr)\n",
    "\n",
    "RF_fpr, RF_tpr, threshold = roc_curve(y_test, rfc_predictions_over)\n",
    "auc_RF = auc(RF_fpr, RF_tpr)\n",
    "\n",
    "DT_fpr, DT_tpr, threshold = roc_curve(y_test, dt_pred_over)\n",
    "auc_DT = auc(DT_fpr, DT_tpr)\n",
    "\n",
    "XGB_fpr, XGB_tpr, threshold = roc_curve(y_test, predicted_y_over)\n",
    "auc_XGB = auc(XGB_fpr, XGB_tpr)\n",
    "\n",
    "GBC_fpr, GBC_tpr, threshold = roc_curve(y_test, gbc_predicted_y_over)\n",
    "auc_GBC = auc(GBC_fpr, GBC_tpr)\n",
    "\n",
    "plt.figure(figsize=(5, 5), dpi=100)\n",
    "\n",
    "#plt.plot(NN_fpr,  NN_tpr,  linestyle='-', label='NN (auc = %0.3f)'  % auc_NN )\n",
    "plt.plot(SVM_fpr, SVM_tpr, linestyle='-', label='SVM (auc = %0.3f)' % auc_SVM)\n",
    "plt.plot(RF_fpr,  RF_tpr,  marker='.',    label='RF (auc = %0.3f)'  % auc_RF )\n",
    "plt.plot(DT_fpr,  DT_tpr,  marker='.',    label='DT (auc = %0.3f)'  % auc_DT )\n",
    "plt.plot(XGB_fpr, XGB_tpr, marker='.',    label='XGB (auc = %0.3f)' % auc_XGB)\n",
    "plt.plot(GBC_fpr, GBC_tpr, marker='.',    label='GBC (auc = %0.3f)' % auc_GBC)\n",
    "\n",
    "plt.xlabel('False Positive Rate')\n",
    "plt.ylabel('True Positive Rate')\n",
    "\n",
    "plt.legend()\n",
    "\n",
    "plt.show()\n",
    "plt.savefig('bfs.jpg')"
   ]
  }
 ],
 "metadata": {
  "kernelspec": {
   "display_name": "Python 3 (ipykernel)",
   "language": "python",
   "name": "python3"
  },
  "language_info": {
   "codemirror_mode": {
    "name": "ipython",
    "version": 3
   },
   "file_extension": ".py",
   "mimetype": "text/x-python",
   "name": "python",
   "nbconvert_exporter": "python",
   "pygments_lexer": "ipython3",
   "version": "3.8.3"
  }
 },
 "nbformat": 4,
 "nbformat_minor": 5
}
